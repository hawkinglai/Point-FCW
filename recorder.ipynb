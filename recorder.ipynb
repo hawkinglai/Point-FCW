{
 "cells": [
  {
   "cell_type": "code",
   "execution_count": 1,
   "metadata": {},
   "outputs": [
    {
     "name": "stdout",
     "output_type": "stream",
     "text": [
      "==> Loading args..\n",
      "Namespace(dataset='scan', split=3, bz=32, points=512, k=120, factor=0.2, metric='seuclidean')\n",
      "==> Preparing model..\n",
      "==> Preparing data..\n",
      "==> Constructing Memory Bank from scan sets..\n",
      "100%|█████████████████████████████████████████| 357/357 [01:20<00:00,  4.41it/s]\n",
      "==> Constructing Memory Bank from scan sets..\n",
      "100%|███████████████████████████████████████████| 91/91 [00:21<00:00,  4.26it/s]\n",
      "Searching best gamma: 100%|████████████████| 5000/5000 [00:18<00:00, 268.38it/s]\n",
      "TDA's classification accuracy: 57.29.\n",
      "TDA's best gamma: 2802.00.\n"
     ]
    }
   ],
   "source": [
    "!python cls.py --dataset scan --split 3 --bz 32 --points 512 --k 120 --metric seuclidean --factor 0.2"
   ]
  },
  {
   "cell_type": "code",
   "execution_count": 21,
   "metadata": {},
   "outputs": [
    {
     "name": "stdout",
     "output_type": "stream",
     "text": [
      "==> Loading args..\n",
      "Namespace(dataset='scan', split=3, points=1024, bz=64)\n",
      "==> Preparing model..\n",
      "==> Preparing data..\n",
      "==> Constructing Memory Bank from scan sets..\n",
      "100%|█████████████████████████████████████████| 179/179 [01:03<00:00,  2.84it/s]\n",
      "==> Constructing Memory Bank from scan sets..\n",
      "100%|███████████████████████████████████████████| 46/46 [00:16<00:00,  2.84it/s]\n",
      "Searching best gamma: 100%|████████████████| 5000/5000 [00:07<00:00, 691.04it/s]\n",
      "TDA's classification accuracy: 81.85.\n",
      "TDA's best gamma: 862.00.\n"
     ]
    }
   ],
   "source": [
    "!python others/pointMLP-pytorch/pointnn_adapter.py --dataset scan --split 3 --bz 64"
   ]
  },
  {
   "cell_type": "code",
   "execution_count": 2,
   "metadata": {},
   "outputs": [
    {
     "name": "stdout",
     "output_type": "stream",
     "text": [
      "==> Loading args..\n",
      "Namespace(dataset='scan', split=1, bz=16, points=512, k=120, factor=0.3, metric='seuclidean')\n",
      "==> Preparing model..\n",
      "==> Preparing data..\n",
      "==> Constructing Memory Bank from scan sets..\n",
      "100%|█████████████████████████████████████████| 145/145 [00:32<00:00,  4.40it/s]\n",
      "==> Constructing Memory Bank from scan sets..\n",
      "100%|███████████████████████████████████████████| 37/37 [00:08<00:00,  4.37it/s]\n",
      "Searching best gamma: 100%|████████████████| 5000/5000 [00:11<00:00, 446.90it/s]\n",
      "TDA's classification accuracy: 61.45.\n",
      "TDA's best gamma: 2332.00.\n"
     ]
    }
   ],
   "source": [
    "!python cls.py --dataset scan --split 1 --bz 16 --points 512 --k 120 --metric seuclidean --factor 0.3"
   ]
  },
  {
   "cell_type": "code",
   "execution_count": 22,
   "metadata": {},
   "outputs": [
    {
     "name": "stdout",
     "output_type": "stream",
     "text": [
      "==> Loading args..\n",
      "Namespace(dataset='scan', split=1, points=1024, bz=64)\n",
      "==> Preparing model..\n",
      "==> Preparing data..\n",
      "==> Constructing Memory Bank from scan sets..\n",
      "100%|███████████████████████████████████████████| 37/37 [00:14<00:00,  2.60it/s]\n",
      "==> Constructing Memory Bank from scan sets..\n",
      "100%|███████████████████████████████████████████| 10/10 [00:04<00:00,  2.48it/s]\n",
      "Searching best gamma: 100%|███████████████| 5000/5000 [00:00<00:00, 6971.89it/s]\n",
      "TDA's classification accuracy: 88.98.\n",
      "TDA's best gamma: 1124.00.\n"
     ]
    }
   ],
   "source": [
    "!python others/pointMLP-pytorch/pointnn_adapter.py --dataset scan --split 1 --bz 64"
   ]
  },
  {
   "cell_type": "code",
   "execution_count": 6,
   "metadata": {},
   "outputs": [
    {
     "name": "stdout",
     "output_type": "stream",
     "text": [
      "==> Loading args..\n",
      "Namespace(dataset='mn40', split=1, bz=64, points=512, k=120, factor=0.2, metric='euclidean')\n",
      "==> Preparing model..\n",
      "==> Preparing data..\n",
      "==> Constructing Memory Bank from mn40 sets..\n",
      "100%|█████████████████████████████████████████| 154/154 [00:36<00:00,  4.19it/s]\n",
      "==> Constructing Memory Bank from mn40 sets..\n",
      "100%|███████████████████████████████████████████| 39/39 [00:09<00:00,  4.13it/s]\n",
      "Searching best gamma: 100%|████████████████| 5000/5000 [00:17<00:00, 288.10it/s]\n",
      "TDA's classification accuracy: 75.28.\n",
      "TDA's best gamma: 7134.00.\n"
     ]
    }
   ],
   "source": [
    "!python cls.py --dataset mn40 --split 1 --bz 64 --points 512 --k 120 --metric euclidean --factor 0.2"
   ]
  },
  {
   "cell_type": "code",
   "execution_count": 27,
   "metadata": {},
   "outputs": [
    {
     "name": "stdout",
     "output_type": "stream",
     "text": [
      "==> Loading args..\n",
      "Namespace(dataset='mn40', split=1, cls=40, points=1024, bz=64)\n",
      "==> Preparing model..\n",
      "==> Preparing data..\n",
      "==> Constructing Memory Bank from mn40 sets..\n",
      "100%|█████████████████████████████████████████| 154/154 [00:54<00:00,  2.83it/s]\n",
      "==> Constructing Memory Bank from mn40 sets..\n",
      "100%|███████████████████████████████████████████| 39/39 [00:14<00:00,  2.77it/s]\n",
      "Searching best gamma: 100%|████████████████| 5000/5000 [00:06<00:00, 798.86it/s]\n",
      "TDA's classification accuracy: 92.79.\n",
      "TDA's best gamma: 446.00.\n"
     ]
    }
   ],
   "source": [
    "!python others/pointMLP-pytorch/pointnn_adapter.py --dataset mn40 --split 1 --bz 64 --cls 40"
   ]
  }
 ],
 "metadata": {
  "kernelspec": {
   "display_name": "pytorch",
   "language": "python",
   "name": "python3"
  },
  "language_info": {
   "codemirror_mode": {
    "name": "ipython",
    "version": 3
   },
   "file_extension": ".py",
   "mimetype": "text/x-python",
   "name": "python",
   "nbconvert_exporter": "python",
   "pygments_lexer": "ipython3",
   "version": "3.12.4"
  }
 },
 "nbformat": 4,
 "nbformat_minor": 2
}
