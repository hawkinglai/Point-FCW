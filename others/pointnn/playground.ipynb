{
 "cells": [
  {
   "cell_type": "code",
   "execution_count": 1,
   "metadata": {},
   "outputs": [
    {
     "name": "stdout",
     "output_type": "stream",
     "text": [
      "==> Loading args..\n",
      "Namespace(dataset='scan', split=3, bz=16, points=1024, stages=4, dim=72, k=90, alpha=1000, beta=100)\n",
      "==> Preparing model..\n",
      "==> Preparing data..\n",
      "/home/kitahara/Desktop/PointTDA/pointtda/data/h5_files/main_split/training_objectdataset_augmentedrot_scale75.h5\n",
      "/home/kitahara/Desktop/PointTDA/pointtda/data/h5_files/main_split/test_objectdataset_augmentedrot_scale75.h5\n",
      "==> Constructing Point-Memory Bank..\n"
     ]
    },
    {
     "name": "stderr",
     "output_type": "stream",
     "text": [
      "100%|██████████| 714/714 [01:01<00:00, 11.53it/s]\n"
     ]
    },
    {
     "name": "stdout",
     "output_type": "stream",
     "text": [
      "==> Saving Test Point Cloud Features..\n"
     ]
    },
    {
     "name": "stderr",
     "output_type": "stream",
     "text": [
      "100%|██████████| 181/181 [00:16<00:00, 11.18it/s]\n"
     ]
    },
    {
     "name": "stdout",
     "output_type": "stream",
     "text": [
      "Elapsed time: 16.195972681045532 seconds\n",
      "==> Starting Point-NN..\n",
      "Point-NN's classification accuracy: 64.16.\n"
     ]
    }
   ],
   "source": [
    "# obtain the Point-NN model feature.\n",
    "from run_nn_cls import main\n",
    "import numpy\n",
    "import argparse\n",
    "import sys\n",
    "\n",
    "def get_arguments():\n",
    "    \n",
    "    parser = argparse.ArgumentParser()\n",
    "    # parser.add_argument('--dataset', type=str, default='mn40')\n",
    "    parser.add_argument('--dataset', type=str, default='scan')\n",
    "\n",
    "    # parser.add_argument('--split', type=int, default=1)\n",
    "    # parser.add_argument('--split', type=int, default=2)\n",
    "    parser.add_argument('--split', type=int, default=3)\n",
    "\n",
    "    parser.add_argument('--bz', type=int, default=16)  # Freeze as 16\n",
    "\n",
    "    parser.add_argument('--points', type=int, default=1024)\n",
    "    parser.add_argument('--stages', type=int, default=4)\n",
    "    parser.add_argument('--dim', type=int, default=72)\n",
    "    parser.add_argument('--k', type=int, default=90)\n",
    "    parser.add_argument('--alpha', type=int, default=1000)\n",
    "    parser.add_argument('--beta', type=int, default=100)\n",
    "\n",
    "    # args = parser.parse_args()\n",
    "    args, unknown = parser.parse_known_args(sys.argv[1:])\n",
    "\n",
    "    return args\n",
    "    \n",
    "args = get_arguments()\n",
    "feature_memory, test_features = main(args)\n",
    "# save_path = './'\n",
    "# fmsp = save_path + 'training_set' + args.dataset + str(args.split) + '.npy'\n",
    "# tfmsp = save_path + 'test_set' + args.dataset + str(args.split) + '.npy'\n",
    "# numpy.save(fmsp, feature_memory.cpu().numpy())\n",
    "# numpy.save(tfmsp, test_features.cpu().numpy())"
   ]
  },
  {
   "cell_type": "code",
   "execution_count": 4,
   "metadata": {},
   "outputs": [
    {
     "name": "stdout",
     "output_type": "stream",
     "text": [
      "==> Loading args..\n",
      "Namespace(dataset='scan', split=1, bz=16, points=1024, stages=4, dim=72, k=90, alpha=1000, beta=100)\n",
      "==> Preparing model..\n",
      "==> Preparing data..\n",
      "/home/kitahara/Desktop/PointTDA/pointtda/data/h5_files/main_split/training_objectdataset.h5\n",
      "/home/kitahara/Desktop/PointTDA/pointtda/data/h5_files/main_split/test_objectdataset.h5\n",
      "==> Constructing Point-Memory Bank..\n"
     ]
    },
    {
     "name": "stderr",
     "output_type": "stream",
     "text": [
      "100%|██████████| 145/145 [00:15<00:00,  9.66it/s]\n"
     ]
    },
    {
     "name": "stdout",
     "output_type": "stream",
     "text": [
      "==> Saving Test Point Cloud Features..\n"
     ]
    },
    {
     "name": "stderr",
     "output_type": "stream",
     "text": [
      "100%|██████████| 37/37 [00:03<00:00,  9.37it/s]\n"
     ]
    },
    {
     "name": "stdout",
     "output_type": "stream",
     "text": [
      "==> Starting Point-NN..\n",
      "Point-NN's classification accuracy: 69.02.\n"
     ]
    }
   ],
   "source": [
    "# obtain the Point-NN model feature.\n",
    "from run_nn_cls import main\n",
    "import numpy\n",
    "import argparse\n",
    "import sys\n",
    "\n",
    "def get_arguments():\n",
    "    \n",
    "    parser = argparse.ArgumentParser()\n",
    "    # parser.add_argument('--dataset', type=str, default='mn40')\n",
    "    parser.add_argument('--dataset', type=str, default='scan')\n",
    "\n",
    "    parser.add_argument('--split', type=int, default=1)\n",
    "    # parser.add_argument('--split', type=int, default=2)\n",
    "    # parser.add_argument('--split', type=int, default=3)\n",
    "\n",
    "    parser.add_argument('--bz', type=int, default=16)  # Freeze as 16\n",
    "\n",
    "    parser.add_argument('--points', type=int, default=1024)\n",
    "    parser.add_argument('--stages', type=int, default=4)\n",
    "    parser.add_argument('--dim', type=int, default=72)\n",
    "    parser.add_argument('--k', type=int, default=90)\n",
    "    parser.add_argument('--alpha', type=int, default=1000)\n",
    "    parser.add_argument('--beta', type=int, default=100)\n",
    "\n",
    "    # args = parser.parse_args()\n",
    "    args, unknown = parser.parse_known_args(sys.argv[1:])\n",
    "\n",
    "    return args\n",
    "    \n",
    "args = get_arguments()\n",
    "feature_memory, test_features = main(args)\n",
    "save_path = './'\n",
    "fmsp = save_path + 'training_set' + args.dataset + str(args.split) + '.npy'\n",
    "tfmsp = save_path + 'test_set' + args.dataset + str(args.split) + '.npy'\n",
    "numpy.save(fmsp, feature_memory.cpu().numpy())\n",
    "numpy.save(tfmsp, test_features.cpu().numpy())"
   ]
  },
  {
   "cell_type": "code",
   "execution_count": 5,
   "metadata": {},
   "outputs": [
    {
     "name": "stdout",
     "output_type": "stream",
     "text": [
      "==> Loading args..\n",
      "Namespace(dataset='mn40', split=3, bz=16, points=1024, stages=4, dim=72, k=72, alpha=1000, beta=100)\n",
      "==> Preparing model..\n",
      "==> Preparing data..\n",
      "==> Constructing Point-Memory Bank..\n"
     ]
    },
    {
     "name": "stderr",
     "output_type": "stream",
     "text": [
      "100%|██████████| 615/615 [00:44<00:00, 13.92it/s]\n"
     ]
    },
    {
     "name": "stdout",
     "output_type": "stream",
     "text": [
      "==> Saving Test Point Cloud Features..\n"
     ]
    },
    {
     "name": "stderr",
     "output_type": "stream",
     "text": [
      "100%|██████████| 155/155 [00:11<00:00, 13.52it/s]\n"
     ]
    },
    {
     "name": "stdout",
     "output_type": "stream",
     "text": [
      "Elapsed time: 11.465932369232178 seconds\n",
      "==> Starting Point-NN..\n",
      "Point-NN's classification accuracy: 80.47.\n"
     ]
    }
   ],
   "source": [
    "# obtain the Point-NN model feature.\n",
    "from run_nn_cls import main\n",
    "import numpy\n",
    "import argparse\n",
    "import sys\n",
    "\n",
    "def get_arguments():\n",
    "    \n",
    "    parser = argparse.ArgumentParser()\n",
    "    parser.add_argument('--dataset', type=str, default='mn40')\n",
    "    # parser.add_argument('--dataset', type=str, default='scan')\n",
    "\n",
    "    # parser.add_argument('--split', type=int, default=1)\n",
    "    # parser.add_argument('--split', type=int, default=2)\n",
    "    parser.add_argument('--split', type=int, default=3)\n",
    "\n",
    "    parser.add_argument('--bz', type=int, default=16)  # Freeze as 16\n",
    "\n",
    "    parser.add_argument('--points', type=int, default=1024)\n",
    "    parser.add_argument('--stages', type=int, default=4)\n",
    "    parser.add_argument('--dim', type=int, default=72)\n",
    "    parser.add_argument('--k', type=int, default=72)\n",
    "    parser.add_argument('--alpha', type=int, default=1000)\n",
    "    parser.add_argument('--beta', type=int, default=100)\n",
    "\n",
    "    # args = parser.parse_args()\n",
    "    args, unknown = parser.parse_known_args(sys.argv[1:])\n",
    "\n",
    "    return args\n",
    "    \n",
    "args = get_arguments()\n",
    "feature_memory, test_features = main(args)\n",
    "save_path = './'\n",
    "fmsp = save_path + 'training_set' + args.dataset + str(args.split) + '.npy'\n",
    "tfmsp = save_path + 'test_set' + args.dataset + str(args.split) + '.npy'\n",
    "numpy.save(fmsp, feature_memory.cpu().numpy())\n",
    "numpy.save(tfmsp, test_features.cpu().numpy())"
   ]
  },
  {
   "cell_type": "code",
   "execution_count": 4,
   "metadata": {},
   "outputs": [
    {
     "name": "stdout",
     "output_type": "stream",
     "text": [
      "==> Loading args..\n",
      "Namespace(dataset='mn40', split=3, bz=16, points=576, stages=4, dim=72, k=72, alpha=1000, beta=100)\n",
      "==> Preparing model..\n",
      "==> Preparing data..\n",
      "==> Constructing Point-Memory Bank..\n"
     ]
    },
    {
     "name": "stderr",
     "output_type": "stream",
     "text": [
      "100%|██████████| 615/615 [00:24<00:00, 24.75it/s]\n"
     ]
    },
    {
     "name": "stdout",
     "output_type": "stream",
     "text": [
      "==> Saving Test Point Cloud Features..\n"
     ]
    },
    {
     "name": "stderr",
     "output_type": "stream",
     "text": [
      "100%|██████████| 155/155 [00:06<00:00, 23.52it/s]\n"
     ]
    },
    {
     "name": "stdout",
     "output_type": "stream",
     "text": [
      "Elapsed time: 6.592733383178711 seconds\n",
      "==> Starting Point-NN..\n",
      "Point-NN's classification accuracy: 81.20.\n"
     ]
    }
   ],
   "source": [
    "# obtain the Point-NN model feature.\n",
    "from run_nn_cls import main\n",
    "import numpy\n",
    "import argparse\n",
    "import sys\n",
    "\n",
    "def get_arguments():\n",
    "    \n",
    "    parser = argparse.ArgumentParser()\n",
    "    parser.add_argument('--dataset', type=str, default='mn40')\n",
    "    # parser.add_argument('--dataset', type=str, default='scan')\n",
    "\n",
    "    # parser.add_argument('--split', type=int, default=1)\n",
    "    # parser.add_argument('--split', type=int, default=2)\n",
    "    parser.add_argument('--split', type=int, default=3)\n",
    "\n",
    "    parser.add_argument('--bz', type=int, default=16)  # Freeze as 16\n",
    "\n",
    "    parser.add_argument('--points', type=int, default=576)\n",
    "    parser.add_argument('--stages', type=int, default=4)\n",
    "    parser.add_argument('--dim', type=int, default=72)\n",
    "    parser.add_argument('--k', type=int, default=72)\n",
    "    parser.add_argument('--alpha', type=int, default=1000)\n",
    "    parser.add_argument('--beta', type=int, default=100)\n",
    "\n",
    "    # args = parser.parse_args()\n",
    "    args, unknown = parser.parse_known_args(sys.argv[1:])\n",
    "\n",
    "    return args\n",
    "    \n",
    "args = get_arguments()\n",
    "feature_memory, test_features = main(args)\n",
    "# save_path = './'\n",
    "# fmsp = save_path + 'training_set' + args.dataset + str(args.split) + '.npy'\n",
    "# tfmsp = save_path + 'test_set' + args.dataset + str(args.split) + '.npy'\n",
    "# numpy.save(fmsp, feature_memory.cpu().numpy())\n",
    "# numpy.save(tfmsp, test_features.cpu().numpy())"
   ]
  },
  {
   "cell_type": "code",
   "execution_count": 4,
   "metadata": {},
   "outputs": [
    {
     "name": "stdout",
     "output_type": "stream",
     "text": [
      "==> Loading args..\n",
      "Namespace(dataset='mn40', split=3, bz=64, points=1024, stages=4, dim=72, k=90, alpha=1000, beta=100)\n",
      "==> Preparing model..\n",
      "==> Preparing data..\n",
      "==> Constructing Point-Memory Bank..\n"
     ]
    },
    {
     "name": "stderr",
     "output_type": "stream",
     "text": [
      "100%|██████████| 154/154 [00:55<00:00,  2.79it/s]\n"
     ]
    },
    {
     "name": "stdout",
     "output_type": "stream",
     "text": [
      "==> Saving Test Point Cloud Features..\n"
     ]
    },
    {
     "name": "stderr",
     "output_type": "stream",
     "text": [
      "100%|██████████| 39/39 [00:15<00:00,  2.57it/s]\n"
     ]
    },
    {
     "name": "stdout",
     "output_type": "stream",
     "text": [
      "Elapsed time: 15.195337533950806 seconds\n",
      "==> Starting Point-NN..\n",
      "Point-NN's classification accuracy: 82.13.\n"
     ]
    }
   ],
   "source": [
    "# obtain the Point-NN model feature.\n",
    "from run_nn_cls import main\n",
    "import numpy\n",
    "import argparse\n",
    "import sys\n",
    "\n",
    "def get_arguments():\n",
    "    \n",
    "    parser = argparse.ArgumentParser()\n",
    "    parser.add_argument('--dataset', type=str, default='mn40')\n",
    "    # parser.add_argument('--dataset', type=str, default='scan')\n",
    "\n",
    "    # parser.add_argument('--split', type=int, default=1)\n",
    "    # parser.add_argument('--split', type=int, default=2)\n",
    "    parser.add_argument('--split', type=int, default=3)\n",
    "\n",
    "    parser.add_argument('--bz', type=int, default=64)  # Freeze as 16\n",
    "\n",
    "    parser.add_argument('--points', type=int, default=1024)\n",
    "    parser.add_argument('--stages', type=int, default=4)\n",
    "    parser.add_argument('--dim', type=int, default=72)\n",
    "    parser.add_argument('--k', type=int, default=90)\n",
    "    parser.add_argument('--alpha', type=int, default=1000)\n",
    "    parser.add_argument('--beta', type=int, default=100)\n",
    "\n",
    "    # args = parser.parse_args()\n",
    "    args, unknown = parser.parse_known_args(sys.argv[1:])\n",
    "\n",
    "    return args\n",
    "    \n",
    "args = get_arguments()\n",
    "feature_memory, test_features = main(args)"
   ]
  }
 ],
 "metadata": {
  "kernelspec": {
   "display_name": "pytorch",
   "language": "python",
   "name": "python3"
  },
  "language_info": {
   "codemirror_mode": {
    "name": "ipython",
    "version": 3
   },
   "file_extension": ".py",
   "mimetype": "text/x-python",
   "name": "python",
   "nbconvert_exporter": "python",
   "pygments_lexer": "ipython3",
   "version": "3.12.4"
  }
 },
 "nbformat": 4,
 "nbformat_minor": 2
}
