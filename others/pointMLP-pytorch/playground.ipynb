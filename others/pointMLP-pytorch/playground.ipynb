{
 "cells": [
  {
   "cell_type": "code",
   "execution_count": 1,
   "metadata": {},
   "outputs": [
    {
     "name": "stdout",
     "output_type": "stream",
     "text": [
      "==> Loading args..\n",
      "Namespace(dataset='scan', split=3, cls=15, points=1024, bz=64)\n",
      "==> Preparing model..\n",
      "==> Preparing data..\n",
      "==> Constructing Memory Bank from scan sets..\n",
      "100%|█████████████████████████████████████████| 179/179 [01:00<00:00,  2.98it/s]\n",
      "==> Constructing Memory Bank from scan sets..\n",
      "100%|███████████████████████████████████████████| 46/46 [00:15<00:00,  2.89it/s]\n",
      "Searching best gamma: 100%|████████████████| 5000/5000 [00:07<00:00, 648.79it/s]\n",
      "TDA's classification accuracy: 81.71.\n",
      "TDA's best gamma: 652.00.\n"
     ]
    }
   ],
   "source": [
    "!python pointnn_adapter.py --dataset scan --split 3 --bz 64"
   ]
  },
  {
   "cell_type": "code",
   "execution_count": 2,
   "metadata": {},
   "outputs": [
    {
     "name": "stdout",
     "output_type": "stream",
     "text": [
      "==> Loading args..\n",
      "Namespace(dataset='scan', split=1, cls=15, points=1024, bz=64)\n",
      "==> Preparing model..\n",
      "==> Preparing data..\n",
      "==> Constructing Memory Bank from scan sets..\n",
      "100%|███████████████████████████████████████████| 37/37 [00:13<00:00,  2.70it/s]\n",
      "==> Constructing Memory Bank from scan sets..\n",
      "100%|███████████████████████████████████████████| 10/10 [00:04<00:00,  2.49it/s]\n",
      "Searching best gamma: 100%|███████████████| 5000/5000 [00:00<00:00, 7741.52it/s]\n",
      "TDA's classification accuracy: 89.16.\n",
      "TDA's best gamma: 1852.00.\n"
     ]
    }
   ],
   "source": [
    "!python pointnn_adapter.py --dataset scan --split 1 --bz 64"
   ]
  },
  {
   "cell_type": "code",
   "execution_count": 3,
   "metadata": {},
   "outputs": [
    {
     "name": "stdout",
     "output_type": "stream",
     "text": [
      "==> Loading args..\n",
      "Namespace(dataset='mn40', split=1, cls=40, points=1024, bz=64)\n",
      "==> Preparing model..\n",
      "==> Preparing data..\n",
      "==> Constructing Memory Bank from mn40 sets..\n",
      "100%|█████████████████████████████████████████| 154/154 [00:51<00:00,  2.99it/s]\n",
      "==> Constructing Memory Bank from mn40 sets..\n",
      "100%|███████████████████████████████████████████| 39/39 [00:13<00:00,  2.81it/s]\n",
      "Searching best gamma: 100%|████████████████| 5000/5000 [00:06<00:00, 806.52it/s]\n",
      "TDA's classification accuracy: 92.91.\n",
      "TDA's best gamma: 440.00.\n"
     ]
    }
   ],
   "source": [
    "!python pointnn_adapter.py --dataset mn40 --split 1 --bz 64 --cls 40"
   ]
  },
  {
   "cell_type": "code",
   "execution_count": 1,
   "metadata": {},
   "outputs": [
    {
     "name": "stdout",
     "output_type": "stream",
     "text": [
      "==> Loading args..\n",
      "Namespace(dataset='mn40', split=1, cls=40, points=512, bz=64)\n",
      "==> Preparing model..\n",
      "==> Preparing data..\n",
      "==> Constructing Memory Bank from mn40 sets..\n",
      "100%|█████████████████████████████████████████| 154/154 [00:48<00:00,  3.17it/s]\n",
      "==> Constructing Memory Bank from mn40 sets..\n",
      "100%|███████████████████████████████████████████| 39/39 [00:12<00:00,  3.09it/s]\n",
      "Searching best gamma: 100%|████████████████| 5000/5000 [00:05<00:00, 889.83it/s]\n",
      "TDA's classification accuracy: 92.75.\n",
      "TDA's best gamma: 656.00.\n"
     ]
    }
   ],
   "source": [
    "!python pointnn_adapter.py --dataset mn40 --split 1 --bz 64 --cls 40 --points 512"
   ]
  }
 ],
 "metadata": {
  "kernelspec": {
   "display_name": "pytorch",
   "language": "python",
   "name": "python3"
  },
  "language_info": {
   "codemirror_mode": {
    "name": "ipython",
    "version": 3
   },
   "file_extension": ".py",
   "mimetype": "text/x-python",
   "name": "python",
   "nbconvert_exporter": "python",
   "pygments_lexer": "ipython3",
   "version": "3.12.4"
  }
 },
 "nbformat": 4,
 "nbformat_minor": 2
}
